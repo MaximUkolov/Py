{
 "cells": [
  {
   "cell_type": "code",
   "execution_count": 1,
   "metadata": {},
   "outputs": [],
   "source": [
    "# fx = -12x^4 - 18x^3+5x^2 + 10x - 30\n",
    "# Определить корни\n",
    "# Найти интервалы, на которых функция возрастает\n",
    "# Найти интервалы, на которых функция убывает\n",
    "# Построить график\n",
    "# Вычислить вершину\n",
    "# Определить промежутки, на котором f > 0\n",
    "# Определить промежутки, на котором f < 0"
   ]
  },
  {
   "cell_type": "code",
   "execution_count": 2,
   "metadata": {},
   "outputs": [],
   "source": [
    "import math\n",
    "from sympy import *\n",
    "from sympy.plotting import *"
   ]
  },
  {
   "cell_type": "code",
   "execution_count": 4,
   "metadata": {},
   "outputs": [
    {
     "data": {
      "text/latex": [
       "$\\displaystyle - 12 x^{4} - 18 x^{3} + 5 x^{2} + 10 x - 30$"
      ],
      "text/plain": [
       "-12*x**4 - 18*x**3 + 5*x**2 + 10*x - 30"
      ]
     },
     "execution_count": 4,
     "metadata": {},
     "output_type": "execute_result"
    }
   ],
   "source": [
    "x = Symbol('x')\n",
    "fx = -12 * x ** 4 - 18 * x ** 3 + 5 * x ** 2 + 10 * x - 30\n",
    "fx"
   ]
  },
  {
   "cell_type": "code",
   "execution_count": 8,
   "metadata": {},
   "outputs": [
    {
     "name": "stdout",
     "output_type": "stream",
     "text": [
      "-3/8 - sqrt(121/144 + 4885/(2592*(208045/373248 + 5*sqrt(9048041)*I/20736)**(1/3)) + 2*(208045/373248 + 5*sqrt(9048041)*I/20736)**(1/3))/2 - sqrt(121/72 - 2*(208045/373248 + 5*sqrt(9048041)*I/20736)**(1/3) - 19/(96*sqrt(121/144 + 4885/(2592*(208045/373248 + 5*sqrt(9048041)*I/20736)**(1/3)) + 2*(208045/373248 + 5*sqrt(9048041)*I/20736)**(1/3))) - 4885/(2592*(208045/373248 + 5*sqrt(9048041)*I/20736)**(1/3)))/2 -3/8 + sqrt(121/144 + 4885/(2592*(208045/373248 + 5*sqrt(9048041)*I/20736)**(1/3)) + 2*(208045/373248 + 5*sqrt(9048041)*I/20736)**(1/3))/2 - sqrt(121/72 - 2*(208045/373248 + 5*sqrt(9048041)*I/20736)**(1/3) + 19/(96*sqrt(121/144 + 4885/(2592*(208045/373248 + 5*sqrt(9048041)*I/20736)**(1/3)) + 2*(208045/373248 + 5*sqrt(9048041)*I/20736)**(1/3))) - 4885/(2592*(208045/373248 + 5*sqrt(9048041)*I/20736)**(1/3)))/2 -3/8 + sqrt(121/72 - 2*(208045/373248 + 5*sqrt(9048041)*I/20736)**(1/3) - 19/(96*sqrt(121/144 + 4885/(2592*(208045/373248 + 5*sqrt(9048041)*I/20736)**(1/3)) + 2*(208045/373248 + 5*sqrt(9048041)*I/20736)**(1/3))) - 4885/(2592*(208045/373248 + 5*sqrt(9048041)*I/20736)**(1/3)))/2 - sqrt(121/144 + 4885/(2592*(208045/373248 + 5*sqrt(9048041)*I/20736)**(1/3)) + 2*(208045/373248 + 5*sqrt(9048041)*I/20736)**(1/3))/2 -3/8 + sqrt(121/72 - 2*(208045/373248 + 5*sqrt(9048041)*I/20736)**(1/3) + 19/(96*sqrt(121/144 + 4885/(2592*(208045/373248 + 5*sqrt(9048041)*I/20736)**(1/3)) + 2*(208045/373248 + 5*sqrt(9048041)*I/20736)**(1/3))) - 4885/(2592*(208045/373248 + 5*sqrt(9048041)*I/20736)**(1/3)))/2 + sqrt(121/144 + 4885/(2592*(208045/373248 + 5*sqrt(9048041)*I/20736)**(1/3)) + 2*(208045/373248 + 5*sqrt(9048041)*I/20736)**(1/3))/2\n"
     ]
    }
   ],
   "source": [
    "sqrt_1, sqrt_2, sqrt_3, sqrt_4 = solve(fx) #Корни\n",
    "print(sqrt_1, sqrt_2, sqrt_3, sqrt_4)"
   ]
  },
  {
   "cell_type": "code",
   "execution_count": 9,
   "metadata": {},
   "outputs": [
    {
     "data": {
      "text/latex": [
       "$\\displaystyle \\left(-\\infty < x \\wedge x < \\operatorname{CRootOf} {\\left(24 x^{3} + 27 x^{2} - 5 x - 5, 0\\right)}\\right) \\vee \\left(x < \\operatorname{CRootOf} {\\left(24 x^{3} + 27 x^{2} - 5 x - 5, 2\\right)} \\wedge \\operatorname{CRootOf} {\\left(24 x^{3} + 27 x^{2} - 5 x - 5, 1\\right)} < x\\right)$"
      ],
      "text/plain": [
       "((-oo < x) & (x < CRootOf(24*x**3 + 27*x**2 - 5*x - 5, 0))) | ((x < CRootOf(24*x**3 + 27*x**2 - 5*x - 5, 2)) & (CRootOf(24*x**3 + 27*x**2 - 5*x - 5, 1) < x))"
      ]
     },
     "execution_count": 9,
     "metadata": {},
     "output_type": "execute_result"
    }
   ],
   "source": [
    "solve(diff(fx) > 0)"
   ]
  },
  {
   "cell_type": "code",
   "execution_count": 10,
   "metadata": {},
   "outputs": [
    {
     "data": {
      "text/latex": [
       "$\\displaystyle \\left(x < \\infty \\wedge \\operatorname{CRootOf} {\\left(24 x^{3} + 27 x^{2} - 5 x - 5, 2\\right)} < x\\right) \\vee \\left(x < \\operatorname{CRootOf} {\\left(24 x^{3} + 27 x^{2} - 5 x - 5, 1\\right)} \\wedge \\operatorname{CRootOf} {\\left(24 x^{3} + 27 x^{2} - 5 x - 5, 0\\right)} < x\\right)$"
      ],
      "text/plain": [
       "((x < oo) & (CRootOf(24*x**3 + 27*x**2 - 5*x - 5, 2) < x)) | ((x < CRootOf(24*x**3 + 27*x**2 - 5*x - 5, 1)) & (CRootOf(24*x**3 + 27*x**2 - 5*x - 5, 0) < x))"
      ]
     },
     "execution_count": 10,
     "metadata": {},
     "output_type": "execute_result"
    }
   ],
   "source": [
    "solve(diff(fx) < 0)"
   ]
  },
  {
   "cell_type": "code",
   "execution_count": 11,
   "metadata": {},
   "outputs": [
    {
     "name": "stdout",
     "output_type": "stream",
     "text": [
      "      0 |                ......................                 \n",
      "        |             ...                      ...              \n",
      "        |           ..                            ..            \n",
      "        |         ..                                ..          \n",
      "        |        /                                    \\         \n",
      "        |       /                                      \\        \n",
      "        |      /                                        \\       \n",
      "        |     .                                          .      \n",
      "        |                                                       \n",
      "        |    .                                            .     \n",
      "-1.05e+ |---.----------------------------------------------.----\n",
      "        |                                                       \n",
      "        |  .                                                .   \n",
      "        |                                                       \n",
      "        | .                                                     \n",
      "        |                                                    .  \n",
      "        |                                                       \n",
      "        |.                                                    . \n",
      "        |                                                       \n",
      "        |                                                       \n",
      "-2.1e+0 |_______________________________________________________\n",
      "         -20                        0                          20\n"
     ]
    }
   ],
   "source": [
    "p = plot(fx, (x, -20, 20))"
   ]
  },
  {
   "cell_type": "code",
   "execution_count": 12,
   "metadata": {},
   "outputs": [
    {
     "name": "stdout",
     "output_type": "stream",
     "text": [
      "-3/8 + (-1/2 - sqrt(3)*I/2)*(19/1536 + sqrt(108895)*I/3456)**(1/3) + 121/(576*(-1/2 - sqrt(3)*I/2)*(19/1536 + sqrt(108895)*I/3456)**(1/3))\n"
     ]
    }
   ],
   "source": [
    "apex = solve(diff(fx))[0]\n",
    "print(apex)"
   ]
  },
  {
   "cell_type": "code",
   "execution_count": 13,
   "metadata": {},
   "outputs": [
    {
     "data": {
      "text/latex": [
       "$\\displaystyle \\text{False}$"
      ],
      "text/plain": [
       "False"
      ]
     },
     "execution_count": 13,
     "metadata": {},
     "output_type": "execute_result"
    }
   ],
   "source": [
    "solve(fx > 0)"
   ]
  },
  {
   "cell_type": "code",
   "execution_count": 14,
   "metadata": {},
   "outputs": [
    {
     "data": {
      "text/latex": [
       "$\\displaystyle -\\infty < x \\wedge x < \\infty$"
      ],
      "text/plain": [
       "(-oo < x) & (x < oo)"
      ]
     },
     "execution_count": 14,
     "metadata": {},
     "output_type": "execute_result"
    }
   ],
   "source": [
    "solve(fx < 0)"
   ]
  }
 ],
 "metadata": {
  "kernelspec": {
   "display_name": "Python 3",
   "language": "python",
   "name": "python3"
  },
  "language_info": {
   "codemirror_mode": {
    "name": "ipython",
    "version": 3
   },
   "file_extension": ".py",
   "mimetype": "text/x-python",
   "name": "python",
   "nbconvert_exporter": "python",
   "pygments_lexer": "ipython3",
   "version": "3.10.9"
  },
  "orig_nbformat": 4,
  "vscode": {
   "interpreter": {
    "hash": "4d07c05385f0cd58b57fd1050616523beb8cf9c3e713e3f0a6268b472d169748"
   }
  }
 },
 "nbformat": 4,
 "nbformat_minor": 2
}
